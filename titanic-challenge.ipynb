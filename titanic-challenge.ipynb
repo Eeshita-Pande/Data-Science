{
 "cells": [
  {
   "cell_type": "code",
   "execution_count": 9,
   "metadata": {
    "execution": {
     "iopub.execute_input": "2021-08-17T05:46:16.393832Z",
     "iopub.status.busy": "2021-08-17T05:46:16.393431Z",
     "iopub.status.idle": "2021-08-17T05:46:16.409343Z",
     "shell.execute_reply": "2021-08-17T05:46:16.408347Z",
     "shell.execute_reply.started": "2021-08-17T05:46:16.393786Z"
    }
   },
   "outputs": [],
   "source": [
    "import numpy as np\n",
    "import pandas as pd\n",
    "train_df = pd.read_csv('/Users/eeshitapande/Downloads/titanic_training.csv')"
   ]
  },
  {
   "cell_type": "code",
   "execution_count": 10,
   "metadata": {
    "execution": {
     "iopub.execute_input": "2021-08-17T05:57:35.146242Z",
     "iopub.status.busy": "2021-08-17T05:57:35.145860Z",
     "iopub.status.idle": "2021-08-17T05:57:35.157016Z",
     "shell.execute_reply": "2021-08-17T05:57:35.155925Z",
     "shell.execute_reply.started": "2021-08-17T05:57:35.146209Z"
    }
   },
   "outputs": [],
   "source": [
    "from sklearn.model_selection import StratifiedShuffleSplit\n",
    "\n",
    "split = StratifiedShuffleSplit(n_splits=1, test_size=0.2, random_state=42)\n",
    "for train_index, test_index in split.split(train_df, train_df[\"Sex\"]):\n",
    "    strat_train_set = train_df.loc[train_index]\n",
    "    strat_test_set = train_df.loc[test_index]"
   ]
  },
  {
   "cell_type": "code",
   "execution_count": 11,
   "metadata": {
    "execution": {
     "iopub.execute_input": "2021-08-17T05:59:22.082172Z",
     "iopub.status.busy": "2021-08-17T05:59:22.081774Z",
     "iopub.status.idle": "2021-08-17T05:59:22.086622Z",
     "shell.execute_reply": "2021-08-17T05:59:22.085900Z",
     "shell.execute_reply.started": "2021-08-17T05:59:22.082140Z"
    }
   },
   "outputs": [],
   "source": [
    "titanic_train = strat_train_set.copy()"
   ]
  },
  {
   "cell_type": "code",
   "execution_count": 12,
   "metadata": {
    "execution": {
     "iopub.execute_input": "2021-08-17T05:59:33.347229Z",
     "iopub.status.busy": "2021-08-17T05:59:33.346732Z",
     "iopub.status.idle": "2021-08-17T05:59:33.360692Z",
     "shell.execute_reply": "2021-08-17T05:59:33.359900Z",
     "shell.execute_reply.started": "2021-08-17T05:59:33.347196Z"
    }
   },
   "outputs": [
    {
     "name": "stdout",
     "output_type": "stream",
     "text": [
      "<class 'pandas.core.frame.DataFrame'>\n",
      "Int64Index: 712 entries, 788 to 261\n",
      "Data columns (total 12 columns):\n",
      " #   Column       Non-Null Count  Dtype  \n",
      "---  ------       --------------  -----  \n",
      " 0   PassengerId  712 non-null    int64  \n",
      " 1   Survived     712 non-null    int64  \n",
      " 2   Pclass       712 non-null    int64  \n",
      " 3   Name         712 non-null    object \n",
      " 4   Sex          712 non-null    object \n",
      " 5   Age          578 non-null    float64\n",
      " 6   SibSp        712 non-null    int64  \n",
      " 7   Parch        712 non-null    int64  \n",
      " 8   Ticket       712 non-null    object \n",
      " 9   Fare         712 non-null    float64\n",
      " 10  Cabin        164 non-null    object \n",
      " 11  Embarked     710 non-null    object \n",
      "dtypes: float64(2), int64(5), object(5)\n",
      "memory usage: 72.3+ KB\n"
     ]
    }
   ],
   "source": [
    "titanic_train.info()"
   ]
  },
  {
   "cell_type": "code",
   "execution_count": 13,
   "metadata": {
    "execution": {
     "iopub.execute_input": "2021-08-17T06:02:46.574340Z",
     "iopub.status.busy": "2021-08-17T06:02:46.573978Z",
     "iopub.status.idle": "2021-08-17T06:02:46.580427Z",
     "shell.execute_reply": "2021-08-17T06:02:46.579762Z",
     "shell.execute_reply.started": "2021-08-17T06:02:46.574310Z"
    }
   },
   "outputs": [],
   "source": [
    "titanic_train = strat_train_set.drop(\"Survived\", axis=1)\n",
    "titanic_labels = strat_train_set[\"Survived\"].copy()"
   ]
  },
  {
   "cell_type": "markdown",
   "metadata": {},
   "source": []
  },
  {
   "cell_type": "code",
   "execution_count": 42,
   "metadata": {
    "execution": {
     "iopub.execute_input": "2021-08-17T06:40:14.872638Z",
     "iopub.status.busy": "2021-08-17T06:40:14.872317Z",
     "iopub.status.idle": "2021-08-17T06:40:14.895075Z",
     "shell.execute_reply": "2021-08-17T06:40:14.894101Z",
     "shell.execute_reply.started": "2021-08-17T06:40:14.872609Z"
    }
   },
   "outputs": [],
   "source": [
    "titanic_train = titanic_train.drop(\"Ticket\", axis=1)"
   ]
  },
  {
   "cell_type": "code",
   "execution_count": 43,
   "metadata": {
    "execution": {
     "iopub.execute_input": "2021-08-17T06:40:21.384903Z",
     "iopub.status.busy": "2021-08-17T06:40:21.384542Z",
     "iopub.status.idle": "2021-08-17T06:40:21.409911Z",
     "shell.execute_reply": "2021-08-17T06:40:21.408927Z",
     "shell.execute_reply.started": "2021-08-17T06:40:21.384871Z"
    }
   },
   "outputs": [],
   "source": [
    "titanic_train = titanic_train.drop(\"Name\", axis=1)"
   ]
  },
  {
   "cell_type": "code",
   "execution_count": 44,
   "metadata": {
    "execution": {
     "iopub.execute_input": "2021-08-17T06:40:25.311199Z",
     "iopub.status.busy": "2021-08-17T06:40:25.310850Z",
     "iopub.status.idle": "2021-08-17T06:40:25.326911Z",
     "shell.execute_reply": "2021-08-17T06:40:25.325884Z",
     "shell.execute_reply.started": "2021-08-17T06:40:25.311171Z"
    }
   },
   "outputs": [
    {
     "name": "stdout",
     "output_type": "stream",
     "text": [
      "<class 'pandas.core.frame.DataFrame'>\n",
      "Int64Index: 712 entries, 788 to 261\n",
      "Data columns (total 9 columns):\n",
      " #   Column       Non-Null Count  Dtype  \n",
      "---  ------       --------------  -----  \n",
      " 0   PassengerId  712 non-null    int64  \n",
      " 1   Pclass       712 non-null    int64  \n",
      " 2   Sex          712 non-null    object \n",
      " 3   Age          578 non-null    float64\n",
      " 4   SibSp        712 non-null    int64  \n",
      " 5   Parch        712 non-null    int64  \n",
      " 6   Fare         712 non-null    float64\n",
      " 7   Cabin        164 non-null    object \n",
      " 8   Embarked     710 non-null    object \n",
      "dtypes: float64(2), int64(4), object(3)\n",
      "memory usage: 55.6+ KB\n"
     ]
    }
   ],
   "source": [
    "titanic_train.info()"
   ]
  },
  {
   "cell_type": "markdown",
   "metadata": {
    "execution": {
     "iopub.execute_input": "2021-08-17T05:45:39.817041Z",
     "iopub.status.busy": "2021-08-17T05:45:39.816712Z",
     "iopub.status.idle": "2021-08-17T05:45:39.823294Z",
     "shell.execute_reply": "2021-08-17T05:45:39.821568Z",
     "shell.execute_reply.started": "2021-08-17T05:45:39.816988Z"
    }
   },
   "source": [
    "Cleaning Data "
   ]
  },
  {
   "cell_type": "markdown",
   "metadata": {},
   "source": []
  },
  {
   "cell_type": "code",
   "execution_count": 45,
   "metadata": {
    "execution": {
     "iopub.execute_input": "2021-08-17T06:03:55.421627Z",
     "iopub.status.busy": "2021-08-17T06:03:55.421159Z",
     "iopub.status.idle": "2021-08-17T06:03:55.453673Z",
     "shell.execute_reply": "2021-08-17T06:03:55.452687Z",
     "shell.execute_reply.started": "2021-08-17T06:03:55.421597Z"
    }
   },
   "outputs": [
    {
     "data": {
      "text/html": [
       "<div>\n",
       "<style scoped>\n",
       "    .dataframe tbody tr th:only-of-type {\n",
       "        vertical-align: middle;\n",
       "    }\n",
       "\n",
       "    .dataframe tbody tr th {\n",
       "        vertical-align: top;\n",
       "    }\n",
       "\n",
       "    .dataframe thead th {\n",
       "        text-align: right;\n",
       "    }\n",
       "</style>\n",
       "<table border=\"1\" class=\"dataframe\">\n",
       "  <thead>\n",
       "    <tr style=\"text-align: right;\">\n",
       "      <th></th>\n",
       "      <th>PassengerId</th>\n",
       "      <th>Pclass</th>\n",
       "      <th>Age</th>\n",
       "      <th>SibSp</th>\n",
       "      <th>Parch</th>\n",
       "      <th>Fare</th>\n",
       "    </tr>\n",
       "  </thead>\n",
       "  <tbody>\n",
       "    <tr>\n",
       "      <th>count</th>\n",
       "      <td>712.000000</td>\n",
       "      <td>712.000000</td>\n",
       "      <td>578.000000</td>\n",
       "      <td>712.000000</td>\n",
       "      <td>712.000000</td>\n",
       "      <td>712.000000</td>\n",
       "    </tr>\n",
       "    <tr>\n",
       "      <th>mean</th>\n",
       "      <td>449.637640</td>\n",
       "      <td>2.323034</td>\n",
       "      <td>29.781436</td>\n",
       "      <td>0.546348</td>\n",
       "      <td>0.373596</td>\n",
       "      <td>31.282893</td>\n",
       "    </tr>\n",
       "    <tr>\n",
       "      <th>std</th>\n",
       "      <td>256.778217</td>\n",
       "      <td>0.838341</td>\n",
       "      <td>14.628503</td>\n",
       "      <td>1.110283</td>\n",
       "      <td>0.803144</td>\n",
       "      <td>44.377233</td>\n",
       "    </tr>\n",
       "    <tr>\n",
       "      <th>min</th>\n",
       "      <td>2.000000</td>\n",
       "      <td>1.000000</td>\n",
       "      <td>0.420000</td>\n",
       "      <td>0.000000</td>\n",
       "      <td>0.000000</td>\n",
       "      <td>0.000000</td>\n",
       "    </tr>\n",
       "    <tr>\n",
       "      <th>25%</th>\n",
       "      <td>231.750000</td>\n",
       "      <td>2.000000</td>\n",
       "      <td>21.000000</td>\n",
       "      <td>0.000000</td>\n",
       "      <td>0.000000</td>\n",
       "      <td>7.895800</td>\n",
       "    </tr>\n",
       "    <tr>\n",
       "      <th>50%</th>\n",
       "      <td>454.500000</td>\n",
       "      <td>3.000000</td>\n",
       "      <td>28.000000</td>\n",
       "      <td>0.000000</td>\n",
       "      <td>0.000000</td>\n",
       "      <td>14.456250</td>\n",
       "    </tr>\n",
       "    <tr>\n",
       "      <th>75%</th>\n",
       "      <td>667.250000</td>\n",
       "      <td>3.000000</td>\n",
       "      <td>38.000000</td>\n",
       "      <td>1.000000</td>\n",
       "      <td>0.000000</td>\n",
       "      <td>31.275000</td>\n",
       "    </tr>\n",
       "    <tr>\n",
       "      <th>max</th>\n",
       "      <td>891.000000</td>\n",
       "      <td>3.000000</td>\n",
       "      <td>80.000000</td>\n",
       "      <td>8.000000</td>\n",
       "      <td>6.000000</td>\n",
       "      <td>512.329200</td>\n",
       "    </tr>\n",
       "  </tbody>\n",
       "</table>\n",
       "</div>"
      ],
      "text/plain": [
       "       PassengerId      Pclass         Age       SibSp       Parch        Fare\n",
       "count   712.000000  712.000000  578.000000  712.000000  712.000000  712.000000\n",
       "mean    449.637640    2.323034   29.781436    0.546348    0.373596   31.282893\n",
       "std     256.778217    0.838341   14.628503    1.110283    0.803144   44.377233\n",
       "min       2.000000    1.000000    0.420000    0.000000    0.000000    0.000000\n",
       "25%     231.750000    2.000000   21.000000    0.000000    0.000000    7.895800\n",
       "50%     454.500000    3.000000   28.000000    0.000000    0.000000   14.456250\n",
       "75%     667.250000    3.000000   38.000000    1.000000    0.000000   31.275000\n",
       "max     891.000000    3.000000   80.000000    8.000000    6.000000  512.329200"
      ]
     },
     "execution_count": 45,
     "metadata": {},
     "output_type": "execute_result"
    }
   ],
   "source": [
    "titanic_train.describe()"
   ]
  },
  {
   "cell_type": "code",
   "execution_count": 18,
   "metadata": {
    "execution": {
     "iopub.execute_input": "2021-08-17T05:46:16.489604Z",
     "iopub.status.busy": "2021-08-17T05:46:16.489192Z",
     "iopub.status.idle": "2021-08-17T05:46:16.698745Z",
     "shell.execute_reply": "2021-08-17T05:46:16.697549Z",
     "shell.execute_reply.started": "2021-08-17T05:46:16.489574Z"
    }
   },
   "outputs": [],
   "source": [
    "from sklearn.impute import SimpleImputer\n",
    "imputer = SimpleImputer(strategy=\"mean\")"
   ]
  },
  {
   "cell_type": "code",
   "execution_count": 19,
   "metadata": {
    "execution": {
     "iopub.execute_input": "2021-08-17T06:04:14.349893Z",
     "iopub.status.busy": "2021-08-17T06:04:14.349436Z",
     "iopub.status.idle": "2021-08-17T06:04:14.356614Z",
     "shell.execute_reply": "2021-08-17T06:04:14.355526Z",
     "shell.execute_reply.started": "2021-08-17T06:04:14.349861Z"
    }
   },
   "outputs": [],
   "source": [
    "train_num = titanic_train.select_dtypes(include=[np.number])"
   ]
  },
  {
   "cell_type": "markdown",
   "metadata": {},
   "source": []
  },
  {
   "cell_type": "code",
   "execution_count": 20,
   "metadata": {
    "execution": {
     "iopub.execute_input": "2021-08-17T06:08:50.949037Z",
     "iopub.status.busy": "2021-08-17T06:08:50.948558Z",
     "iopub.status.idle": "2021-08-17T06:08:50.964949Z",
     "shell.execute_reply": "2021-08-17T06:08:50.963927Z",
     "shell.execute_reply.started": "2021-08-17T06:08:50.948991Z"
    }
   },
   "outputs": [
    {
     "name": "stdout",
     "output_type": "stream",
     "text": [
      "<class 'pandas.core.frame.DataFrame'>\n",
      "Int64Index: 712 entries, 788 to 261\n",
      "Data columns (total 6 columns):\n",
      " #   Column       Non-Null Count  Dtype  \n",
      "---  ------       --------------  -----  \n",
      " 0   PassengerId  712 non-null    int64  \n",
      " 1   Pclass       712 non-null    int64  \n",
      " 2   Age          578 non-null    float64\n",
      " 3   SibSp        712 non-null    int64  \n",
      " 4   Parch        712 non-null    int64  \n",
      " 5   Fare         712 non-null    float64\n",
      "dtypes: float64(2), int64(4)\n",
      "memory usage: 38.9 KB\n"
     ]
    }
   ],
   "source": [
    "train_num.info()"
   ]
  },
  {
   "cell_type": "code",
   "execution_count": 21,
   "metadata": {
    "execution": {
     "iopub.execute_input": "2021-08-17T06:04:20.068985Z",
     "iopub.status.busy": "2021-08-17T06:04:20.068668Z",
     "iopub.status.idle": "2021-08-17T06:04:20.077930Z",
     "shell.execute_reply": "2021-08-17T06:04:20.076778Z",
     "shell.execute_reply.started": "2021-08-17T06:04:20.068958Z"
    }
   },
   "outputs": [
    {
     "data": {
      "text/plain": [
       "SimpleImputer()"
      ]
     },
     "execution_count": 21,
     "metadata": {},
     "output_type": "execute_result"
    }
   ],
   "source": [
    "imputer.fit(train_num)"
   ]
  },
  {
   "cell_type": "code",
   "execution_count": 22,
   "metadata": {
    "execution": {
     "iopub.execute_input": "2021-08-17T06:04:23.358917Z",
     "iopub.status.busy": "2021-08-17T06:04:23.358589Z",
     "iopub.status.idle": "2021-08-17T06:04:23.365656Z",
     "shell.execute_reply": "2021-08-17T06:04:23.364426Z",
     "shell.execute_reply.started": "2021-08-17T06:04:23.358887Z"
    }
   },
   "outputs": [
    {
     "data": {
      "text/plain": [
       "array([4.49637640e+02, 2.32303371e+00, 2.97814360e+01, 5.46348315e-01,\n",
       "       3.73595506e-01, 3.12828933e+01])"
      ]
     },
     "execution_count": 22,
     "metadata": {},
     "output_type": "execute_result"
    }
   ],
   "source": [
    "imputer.statistics_"
   ]
  },
  {
   "cell_type": "code",
   "execution_count": 23,
   "metadata": {
    "execution": {
     "iopub.execute_input": "2021-08-17T06:04:26.775683Z",
     "iopub.status.busy": "2021-08-17T06:04:26.775329Z",
     "iopub.status.idle": "2021-08-17T06:04:26.783370Z",
     "shell.execute_reply": "2021-08-17T06:04:26.782227Z",
     "shell.execute_reply.started": "2021-08-17T06:04:26.775648Z"
    }
   },
   "outputs": [
    {
     "data": {
      "text/plain": [
       "array([4.49637640e+02, 2.32303371e+00, 2.97814360e+01, 5.46348315e-01,\n",
       "       3.73595506e-01, 3.12828933e+01])"
      ]
     },
     "execution_count": 23,
     "metadata": {},
     "output_type": "execute_result"
    }
   ],
   "source": [
    "train_num.mean().values"
   ]
  },
  {
   "cell_type": "code",
   "execution_count": 24,
   "metadata": {
    "execution": {
     "iopub.execute_input": "2021-08-17T06:10:33.916738Z",
     "iopub.status.busy": "2021-08-17T06:10:33.916402Z",
     "iopub.status.idle": "2021-08-17T06:10:33.922961Z",
     "shell.execute_reply": "2021-08-17T06:10:33.921891Z",
     "shell.execute_reply.started": "2021-08-17T06:10:33.916707Z"
    }
   },
   "outputs": [],
   "source": [
    "X = imputer.transform(train_num)"
   ]
  },
  {
   "cell_type": "code",
   "execution_count": 25,
   "metadata": {
    "execution": {
     "iopub.execute_input": "2021-08-17T06:11:25.455295Z",
     "iopub.status.busy": "2021-08-17T06:11:25.454927Z",
     "iopub.status.idle": "2021-08-17T06:11:25.459447Z",
     "shell.execute_reply": "2021-08-17T06:11:25.458570Z",
     "shell.execute_reply.started": "2021-08-17T06:11:25.455263Z"
    }
   },
   "outputs": [],
   "source": [
    "train_tr = pd.DataFrame(X, columns=train_num.columns,\n",
    "                          index=train_num.index)"
   ]
  },
  {
   "cell_type": "code",
   "execution_count": 26,
   "metadata": {
    "execution": {
     "iopub.execute_input": "2021-08-17T06:11:34.327645Z",
     "iopub.status.busy": "2021-08-17T06:11:34.327179Z",
     "iopub.status.idle": "2021-08-17T06:11:34.342083Z",
     "shell.execute_reply": "2021-08-17T06:11:34.341103Z",
     "shell.execute_reply.started": "2021-08-17T06:11:34.327615Z"
    }
   },
   "outputs": [
    {
     "name": "stdout",
     "output_type": "stream",
     "text": [
      "<class 'pandas.core.frame.DataFrame'>\n",
      "Int64Index: 712 entries, 788 to 261\n",
      "Data columns (total 6 columns):\n",
      " #   Column       Non-Null Count  Dtype  \n",
      "---  ------       --------------  -----  \n",
      " 0   PassengerId  712 non-null    float64\n",
      " 1   Pclass       712 non-null    float64\n",
      " 2   Age          712 non-null    float64\n",
      " 3   SibSp        712 non-null    float64\n",
      " 4   Parch        712 non-null    float64\n",
      " 5   Fare         712 non-null    float64\n",
      "dtypes: float64(6)\n",
      "memory usage: 38.9 KB\n"
     ]
    }
   ],
   "source": [
    "train_tr.info()"
   ]
  },
  {
   "cell_type": "code",
   "execution_count": 27,
   "metadata": {
    "execution": {
     "iopub.execute_input": "2021-08-17T06:12:44.067080Z",
     "iopub.status.busy": "2021-08-17T06:12:44.066695Z",
     "iopub.status.idle": "2021-08-17T06:12:44.073370Z",
     "shell.execute_reply": "2021-08-17T06:12:44.072384Z",
     "shell.execute_reply.started": "2021-08-17T06:12:44.067033Z"
    }
   },
   "outputs": [],
   "source": [
    "train_cat = titanic_train.select_dtypes(include=['object'])"
   ]
  },
  {
   "cell_type": "code",
   "execution_count": 28,
   "metadata": {
    "execution": {
     "iopub.execute_input": "2021-08-17T06:12:46.875526Z",
     "iopub.status.busy": "2021-08-17T06:12:46.875166Z",
     "iopub.status.idle": "2021-08-17T06:12:46.881159Z",
     "shell.execute_reply": "2021-08-17T06:12:46.880099Z",
     "shell.execute_reply.started": "2021-08-17T06:12:46.875495Z"
    }
   },
   "outputs": [],
   "source": [
    "train_cat = train_cat[[\"Cabin\", \"Embarked\"]]"
   ]
  },
  {
   "cell_type": "code",
   "execution_count": 29,
   "metadata": {
    "execution": {
     "iopub.execute_input": "2021-08-17T06:14:29.506353Z",
     "iopub.status.busy": "2021-08-17T06:14:29.505726Z",
     "iopub.status.idle": "2021-08-17T06:14:29.512902Z",
     "shell.execute_reply": "2021-08-17T06:14:29.511675Z",
     "shell.execute_reply.started": "2021-08-17T06:14:29.506295Z"
    }
   },
   "outputs": [],
   "source": [
    "train_cat = train_cat.fillna({\"Cabin\": \"none\", \"Embarked\": \"none\"})"
   ]
  },
  {
   "cell_type": "code",
   "execution_count": 41,
   "metadata": {},
   "outputs": [
    {
     "name": "stdout",
     "output_type": "stream",
     "text": [
      "<class 'pandas.core.frame.DataFrame'>\n",
      "Int64Index: 712 entries, 788 to 261\n",
      "Data columns (total 2 columns):\n",
      " #   Column    Non-Null Count  Dtype \n",
      "---  ------    --------------  ----- \n",
      " 0   Cabin     712 non-null    object\n",
      " 1   Embarked  712 non-null    object\n",
      "dtypes: object(2)\n",
      "memory usage: 16.7+ KB\n"
     ]
    }
   ],
   "source": [
    "train_cat.info()"
   ]
  },
  {
   "cell_type": "code",
   "execution_count": 56,
   "metadata": {
    "execution": {
     "iopub.execute_input": "2021-08-17T06:14:33.173202Z",
     "iopub.status.busy": "2021-08-17T06:14:33.172835Z",
     "iopub.status.idle": "2021-08-17T06:14:33.182419Z",
     "shell.execute_reply": "2021-08-17T06:14:33.181438Z",
     "shell.execute_reply.started": "2021-08-17T06:14:33.173166Z"
    }
   },
   "outputs": [
    {
     "data": {
      "text/plain": [
       "<10x133 sparse matrix of type '<class 'numpy.float64'>'\n",
       "\twith 20 stored elements in Compressed Sparse Row format>"
      ]
     },
     "execution_count": 56,
     "metadata": {},
     "output_type": "execute_result"
    }
   ],
   "source": [
    "from sklearn.preprocessing import OneHotEncoder\n",
    "\n",
    "onehot_encoder = OneHotEncoder()\n",
    "train_cat_encoded = onehot_encoder.fit_transform(train_cat)\n",
    "train_cat_encoded[:10]"
   ]
  },
  {
   "cell_type": "code",
   "execution_count": 57,
   "metadata": {
    "execution": {
     "iopub.execute_input": "2021-08-17T06:14:35.452914Z",
     "iopub.status.busy": "2021-08-17T06:14:35.452563Z",
     "iopub.status.idle": "2021-08-17T06:14:35.461650Z",
     "shell.execute_reply": "2021-08-17T06:14:35.459499Z",
     "shell.execute_reply.started": "2021-08-17T06:14:35.452885Z"
    }
   },
   "outputs": [
    {
     "data": {
      "text/plain": [
       "<10x133 sparse matrix of type '<class 'numpy.float64'>'\n",
       "\twith 20 stored elements in Compressed Sparse Row format>"
      ]
     },
     "execution_count": 57,
     "metadata": {},
     "output_type": "execute_result"
    }
   ],
   "source": [
    "train_cat_encoded[:10]"
   ]
  },
  {
   "cell_type": "code",
   "execution_count": 58,
   "metadata": {
    "execution": {
     "iopub.execute_input": "2021-08-17T06:14:37.465982Z",
     "iopub.status.busy": "2021-08-17T06:14:37.465636Z",
     "iopub.status.idle": "2021-08-17T06:14:37.478296Z",
     "shell.execute_reply": "2021-08-17T06:14:37.477282Z",
     "shell.execute_reply.started": "2021-08-17T06:14:37.465952Z"
    }
   },
   "outputs": [
    {
     "name": "stdout",
     "output_type": "stream",
     "text": [
      "<class 'pandas.core.frame.DataFrame'>\n",
      "Int64Index: 712 entries, 788 to 261\n",
      "Data columns (total 2 columns):\n",
      " #   Column    Non-Null Count  Dtype \n",
      "---  ------    --------------  ----- \n",
      " 0   Cabin     712 non-null    object\n",
      " 1   Embarked  712 non-null    object\n",
      "dtypes: object(2)\n",
      "memory usage: 16.7+ KB\n"
     ]
    }
   ],
   "source": [
    "train_cat.info()"
   ]
  },
  {
   "cell_type": "code",
   "execution_count": 59,
   "metadata": {
    "execution": {
     "iopub.execute_input": "2021-08-17T06:26:18.677606Z",
     "iopub.status.busy": "2021-08-17T06:26:18.677245Z",
     "iopub.status.idle": "2021-08-17T06:26:18.688877Z",
     "shell.execute_reply": "2021-08-17T06:26:18.688044Z",
     "shell.execute_reply.started": "2021-08-17T06:26:18.677570Z"
    }
   },
   "outputs": [],
   "source": [
    "from sklearn.pipeline import Pipeline\n",
    "from sklearn.preprocessing import StandardScaler\n",
    "\n",
    "num_pipeline = Pipeline([\n",
    "        ('imputer', SimpleImputer(strategy=\"mean\")),\n",
    "        ('std_scaler', StandardScaler()),\n",
    "    ])\n",
    "\n",
    "train_num_tr = num_pipeline.fit_transform(train_num)"
   ]
  },
  {
   "cell_type": "code",
   "execution_count": 60,
   "metadata": {
    "execution": {
     "iopub.execute_input": "2021-08-17T06:36:16.722540Z",
     "iopub.status.busy": "2021-08-17T06:36:16.722071Z",
     "iopub.status.idle": "2021-08-17T06:36:16.729340Z",
     "shell.execute_reply": "2021-08-17T06:36:16.728308Z",
     "shell.execute_reply.started": "2021-08-17T06:36:16.722503Z"
    }
   },
   "outputs": [],
   "source": [
    "cat_pipeline = Pipeline([\n",
    "        ('cat', OneHotEncoder())\n",
    "    ])\n",
    "\n",
    "train_cat_tr = cat_pipeline.fit_transform(train_cat)"
   ]
  },
  {
   "cell_type": "code",
   "execution_count": 61,
   "metadata": {
    "execution": {
     "iopub.execute_input": "2021-08-17T06:26:20.532643Z",
     "iopub.status.busy": "2021-08-17T06:26:20.532273Z",
     "iopub.status.idle": "2021-08-17T06:26:20.539799Z",
     "shell.execute_reply": "2021-08-17T06:26:20.538834Z",
     "shell.execute_reply.started": "2021-08-17T06:26:20.532607Z"
    }
   },
   "outputs": [
    {
     "data": {
      "text/plain": [
       "array([[ 1.32254570e+00,  8.08074478e-01, -2.18556965e+00,\n",
       "         4.08878121e-01,  2.02647087e+00, -2.41462118e-01],\n",
       "       [-3.96097035e-01,  8.08074478e-01, -5.39563294e-16,\n",
       "         4.08878121e-01, -4.65493309e-01, -3.42373002e-01],\n",
       "       [ 7.02899000e-01,  8.08074478e-01, -5.39563294e-16,\n",
       "        -4.92425973e-01, -4.65493309e-01, -5.31041404e-01],\n",
       "       ...,\n",
       "       [ 1.02246522e+00, -1.57926589e+00, -5.39563294e-16,\n",
       "        -4.92425973e-01, -4.65493309e-01, -1.06726356e-01],\n",
       "       [ 1.70007654e-02, -1.57926589e+00,  1.45939592e+00,\n",
       "         4.08878121e-01, -4.65493309e-01,  1.30386574e+00],\n",
       "       [-7.31251854e-01,  8.08074478e-01, -2.03369609e+00,\n",
       "         3.11279040e+00,  2.02647087e+00,  2.35887347e-03]])"
      ]
     },
     "execution_count": 61,
     "metadata": {},
     "output_type": "execute_result"
    }
   ],
   "source": [
    "train_num_tr"
   ]
  },
  {
   "cell_type": "code",
   "execution_count": 62,
   "metadata": {
    "execution": {
     "iopub.execute_input": "2021-08-17T06:36:30.363788Z",
     "iopub.status.busy": "2021-08-17T06:36:30.363465Z",
     "iopub.status.idle": "2021-08-17T06:36:30.369541Z",
     "shell.execute_reply": "2021-08-17T06:36:30.368537Z",
     "shell.execute_reply.started": "2021-08-17T06:36:30.363759Z"
    }
   },
   "outputs": [
    {
     "data": {
      "text/plain": [
       "<712x133 sparse matrix of type '<class 'numpy.float64'>'\n",
       "\twith 1424 stored elements in Compressed Sparse Row format>"
      ]
     },
     "execution_count": 62,
     "metadata": {},
     "output_type": "execute_result"
    }
   ],
   "source": [
    "train_cat_tr"
   ]
  },
  {
   "cell_type": "code",
   "execution_count": 64,
   "metadata": {
    "execution": {
     "iopub.execute_input": "2021-08-17T06:36:37.572265Z",
     "iopub.status.busy": "2021-08-17T06:36:37.571898Z",
     "iopub.status.idle": "2021-08-17T06:36:37.576871Z",
     "shell.execute_reply": "2021-08-17T06:36:37.575872Z",
     "shell.execute_reply.started": "2021-08-17T06:36:37.572234Z"
    }
   },
   "outputs": [],
   "source": [
    "from sklearn.compose import ColumnTransformer\n",
    "\n",
    "num_attribs = list(train_num)\n",
    "cat_attribs = list(train_cat)\n",
    "\n",
    "full_pipeline = ColumnTransformer([\n",
    "        (\"num\", num_pipeline, num_attribs),\n",
    "        (\"cat\", OneHotEncoder(), cat_attribs),\n",
    "    ])"
   ]
  },
  {
   "cell_type": "code",
   "execution_count": 65,
   "metadata": {
    "execution": {
     "iopub.execute_input": "2021-08-17T06:36:39.930109Z",
     "iopub.status.busy": "2021-08-17T06:36:39.929741Z",
     "iopub.status.idle": "2021-08-17T06:36:39.973894Z",
     "shell.execute_reply": "2021-08-17T06:36:39.972018Z",
     "shell.execute_reply.started": "2021-08-17T06:36:39.930077Z"
    }
   },
   "outputs": [],
   "source": [
    "titanic_prepared = full_pipeline.fit_transform(titanic_train)"
   ]
  },
  {
   "cell_type": "code",
   "execution_count": 66,
   "metadata": {},
   "outputs": [],
   "source": [
    "## OrdinalEncoder gave value error: still to investigate why this is so"
   ]
  },
  {
   "cell_type": "markdown",
   "metadata": {},
   "source": [
    "## Model Selection"
   ]
  },
  {
   "cell_type": "code",
   "execution_count": 71,
   "metadata": {},
   "outputs": [],
   "source": [
    "## Linear Regression"
   ]
  },
  {
   "cell_type": "code",
   "execution_count": 67,
   "metadata": {},
   "outputs": [
    {
     "data": {
      "text/plain": [
       "LinearRegression()"
      ]
     },
     "execution_count": 67,
     "metadata": {},
     "output_type": "execute_result"
    }
   ],
   "source": [
    "from sklearn.linear_model import LinearRegression\n",
    "\n",
    "\n",
    "lin_reg = LinearRegression()\n",
    "lin_reg.fit(titanic_prepared, titanic_labels)"
   ]
  },
  {
   "cell_type": "code",
   "execution_count": 70,
   "metadata": {},
   "outputs": [
    {
     "name": "stdout",
     "output_type": "stream",
     "text": [
      "Predictions: [0.49726128 0.16168966 0.38296272 0.41214646 0.30917618]\n"
     ]
    }
   ],
   "source": [
    "some_data = titanic_train.iloc[:5]\n",
    "some_labels = titanic_labels.iloc[:5]\n",
    "some_data_prepared = full_pipeline.transform(some_data)\n",
    "\n",
    "print(\"Predictions:\", lin_reg.predict(some_data_prepared))"
   ]
  },
  {
   "cell_type": "code",
   "execution_count": 72,
   "metadata": {},
   "outputs": [
    {
     "data": {
      "text/plain": [
       "0.389604867188896"
      ]
     },
     "execution_count": 72,
     "metadata": {},
     "output_type": "execute_result"
    }
   ],
   "source": [
    "from sklearn.metrics import mean_squared_error\n",
    "\n",
    "titanic_predictions = lin_reg.predict(titanic_prepared)\n",
    "lin_mse = mean_squared_error(titanic_labels, titanic_predictions)\n",
    "lin_rmse = np.sqrt(lin_mse)\n",
    "lin_rmse"
   ]
  },
  {
   "cell_type": "code",
   "execution_count": 73,
   "metadata": {},
   "outputs": [
    {
     "data": {
      "text/plain": [
       "0.3106609390876849"
      ]
     },
     "execution_count": 73,
     "metadata": {},
     "output_type": "execute_result"
    }
   ],
   "source": [
    "from sklearn.metrics import mean_absolute_error\n",
    "\n",
    "lin_mae = mean_absolute_error(titanic_labels, titanic_predictions)\n",
    "lin_mae"
   ]
  },
  {
   "cell_type": "code",
   "execution_count": 74,
   "metadata": {},
   "outputs": [],
   "source": [
    "## Decision Tree"
   ]
  },
  {
   "cell_type": "code",
   "execution_count": 75,
   "metadata": {},
   "outputs": [
    {
     "data": {
      "text/plain": [
       "DecisionTreeRegressor(random_state=42)"
      ]
     },
     "execution_count": 75,
     "metadata": {},
     "output_type": "execute_result"
    }
   ],
   "source": [
    "from sklearn.tree import DecisionTreeRegressor\n",
    "\n",
    "tree_reg = DecisionTreeRegressor(random_state=42)\n",
    "tree_reg.fit(titanic_prepared, titanic_labels)"
   ]
  },
  {
   "cell_type": "code",
   "execution_count": 103,
   "metadata": {},
   "outputs": [
    {
     "data": {
      "text/plain": [
       "0.0"
      ]
     },
     "execution_count": 103,
     "metadata": {},
     "output_type": "execute_result"
    }
   ],
   "source": [
    "titanic_predictions = tree_reg.predict(titanic_prepared)\n",
    "tree_mse = mean_squared_error(titanic_labels, titanic_predictions)\n",
    "tree_rmse = np.sqrt(tree_mse)\n",
    "tree_rmse"
   ]
  },
  {
   "cell_type": "code",
   "execution_count": 80,
   "metadata": {},
   "outputs": [],
   "source": [
    "## Decision tree has clearly overfit the data due to RMSE being 0\n",
    "## Investigate why decision tree overfits data in both this and housing problems"
   ]
  },
  {
   "cell_type": "code",
   "execution_count": 81,
   "metadata": {},
   "outputs": [
    {
     "data": {
      "text/plain": [
       "RandomForestRegressor(random_state=42)"
      ]
     },
     "execution_count": 81,
     "metadata": {},
     "output_type": "execute_result"
    }
   ],
   "source": [
    "from sklearn.ensemble import RandomForestRegressor\n",
    "\n",
    "forest_reg = RandomForestRegressor(n_estimators=100, random_state=42)\n",
    "forest_reg.fit(titanic_prepared, titanic_labels)"
   ]
  },
  {
   "cell_type": "code",
   "execution_count": 82,
   "metadata": {},
   "outputs": [
    {
     "data": {
      "text/plain": [
       "0.16478152031766866"
      ]
     },
     "execution_count": 82,
     "metadata": {},
     "output_type": "execute_result"
    }
   ],
   "source": [
    "titanic_predictions = forest_reg.predict(titanic_prepared)\n",
    "forest_mse = mean_squared_error(titanic_labels, titanic_predictions)\n",
    "forest_rmse = np.sqrt(forest_mse)\n",
    "forest_rmse"
   ]
  },
  {
   "cell_type": "code",
   "execution_count": 83,
   "metadata": {},
   "outputs": [],
   "source": [
    "## SVM"
   ]
  },
  {
   "cell_type": "code",
   "execution_count": 102,
   "metadata": {},
   "outputs": [
    {
     "data": {
      "text/plain": [
       "0.4384255584812188"
      ]
     },
     "execution_count": 102,
     "metadata": {},
     "output_type": "execute_result"
    }
   ],
   "source": [
    "from sklearn.svm import SVR\n",
    "\n",
    "svm_reg = SVR(kernel=\"linear\")\n",
    "svm_reg.fit(titanic_prepared, titanic_labels)\n",
    "titanic_predictions = svm_reg.predict(titanic_prepared)\n",
    "svm_mse = mean_squared_error(titanic_labels, titanic_predictions)\n",
    "svm_rmse = np.sqrt(svm_mse)\n",
    "svm_rmse"
   ]
  },
  {
   "cell_type": "code",
   "execution_count": 85,
   "metadata": {},
   "outputs": [],
   "source": [
    "## Validation Scores"
   ]
  },
  {
   "cell_type": "code",
   "execution_count": 86,
   "metadata": {},
   "outputs": [],
   "source": [
    "from sklearn.model_selection import cross_val_score"
   ]
  },
  {
   "cell_type": "code",
   "execution_count": 88,
   "metadata": {},
   "outputs": [],
   "source": [
    "def display_scores(scores):\n",
    "    print(\"Scores:\", scores)\n",
    "    print(\"Mean:\", scores.mean())\n",
    "    print(\"Standard deviation:\", scores.std())"
   ]
  },
  {
   "cell_type": "code",
   "execution_count": 90,
   "metadata": {},
   "outputs": [
    {
     "name": "stdout",
     "output_type": "stream",
     "text": [
      "Scores: [0.43333247 0.44345076 0.46328988 0.49408541 0.47216241 0.42892383\n",
      " 0.40469055 0.47539475 0.43037778 0.50123103]\n",
      "Mean: 0.4546938869157854\n",
      "Standard deviation: 0.029771438123540023\n"
     ]
    }
   ],
   "source": [
    "lin_scores = cross_val_score(lin_reg, titanic_prepared, titanic_labels,\n",
    "                             scoring=\"neg_mean_squared_error\", cv=10)\n",
    "lin_rmse_scores = np.sqrt(-lin_scores)\n",
    "display_scores(lin_rmse_scores)"
   ]
  },
  {
   "cell_type": "code",
   "execution_count": 92,
   "metadata": {},
   "outputs": [
    {
     "name": "stdout",
     "output_type": "stream",
     "text": [
      "Scores: [0.56519417 0.48591266 0.54385168 0.55664994 0.62798583 0.59339083\n",
      " 0.60514228 0.55664994 0.54385168 0.5814019 ]\n",
      "Mean: 0.5660030895992232\n",
      "Standard deviation: 0.03732614657690819\n"
     ]
    }
   ],
   "source": [
    "scores = cross_val_score(tree_reg, titanic_prepared, titanic_labels,\n",
    "                         scoring=\"neg_mean_squared_error\", cv=10)\n",
    "tree_rmse_scores = np.sqrt(-scores)\n",
    "display_scores(tree_rmse_scores)"
   ]
  },
  {
   "cell_type": "code",
   "execution_count": 94,
   "metadata": {},
   "outputs": [
    {
     "name": "stdout",
     "output_type": "stream",
     "text": [
      "Scores: [0.42384647 0.42817442 0.45254367 0.44157529 0.51703379 0.4445634\n",
      " 0.38201652 0.45143745 0.44334516 0.4874582 ]\n",
      "Mean: 0.44719943726834277\n",
      "Standard deviation: 0.03428365070902729\n"
     ]
    }
   ],
   "source": [
    "for_scores = cross_val_score(forest_reg, titanic_prepared, titanic_labels,\n",
    "                             scoring=\"neg_mean_squared_error\", cv=10)\n",
    "for_rmse_scores = np.sqrt(-for_scores)\n",
    "display_scores(for_rmse_scores)"
   ]
  },
  {
   "cell_type": "code",
   "execution_count": 95,
   "metadata": {},
   "outputs": [
    {
     "name": "stdout",
     "output_type": "stream",
     "text": [
      "Scores: [0.47056172 0.44816637 0.50158612 0.52876508 0.5130968  0.4892421\n",
      " 0.43143673 0.52125608 0.46490295 0.51824677]\n",
      "Mean: 0.48872607251785166\n",
      "Standard deviation: 0.031807259314204146\n"
     ]
    }
   ],
   "source": [
    "svm_scores = cross_val_score(svm_reg, titanic_prepared, titanic_labels,\n",
    "                             scoring=\"neg_mean_squared_error\", cv=10)\n",
    "svm_scores = np.sqrt(-svm_scores)\n",
    "display_scores(svm_scores)"
   ]
  },
  {
   "cell_type": "markdown",
   "metadata": {},
   "source": [
    "## Precision versus recall - confusion matrix"
   ]
  },
  {
   "cell_type": "code",
   "execution_count": 106,
   "metadata": {},
   "outputs": [],
   "source": [
    "from sklearn.linear_model import LogisticRegression\n",
    "log_reg = LogisticRegression(random_state = 42)"
   ]
  },
  {
   "cell_type": "code",
   "execution_count": 107,
   "metadata": {},
   "outputs": [],
   "source": [
    "log_reg.fit(titanic_prepared, titanic_labels)\n",
    "titanic_predictions = log_reg.predict(titanic_prepared)"
   ]
  },
  {
   "cell_type": "code",
   "execution_count": 108,
   "metadata": {},
   "outputs": [
    {
     "data": {
      "text/plain": [
       "array([[389,  46],\n",
       "       [134, 143]])"
      ]
     },
     "execution_count": 108,
     "metadata": {},
     "output_type": "execute_result"
    }
   ],
   "source": [
    "from sklearn.metrics import confusion_matrix\n",
    "confusion_matrix(titanic_labels, titanic_predictions)"
   ]
  },
  {
   "cell_type": "code",
   "execution_count": 111,
   "metadata": {},
   "outputs": [
    {
     "data": {
      "text/plain": [
       "0.7566137566137566"
      ]
     },
     "execution_count": 111,
     "metadata": {},
     "output_type": "execute_result"
    }
   ],
   "source": [
    "from sklearn.metrics import precision_score, recall_score\n",
    "precision_score(titanic_labels, titanic_predictions)"
   ]
  },
  {
   "cell_type": "code",
   "execution_count": 112,
   "metadata": {},
   "outputs": [
    {
     "data": {
      "text/plain": [
       "0.516245487364621"
      ]
     },
     "execution_count": 112,
     "metadata": {},
     "output_type": "execute_result"
    }
   ],
   "source": [
    "recall_score(titanic_labels, titanic_predictions)"
   ]
  },
  {
   "cell_type": "code",
   "execution_count": 113,
   "metadata": {},
   "outputs": [
    {
     "data": {
      "text/plain": [
       "0.6137339055793992"
      ]
     },
     "execution_count": 113,
     "metadata": {},
     "output_type": "execute_result"
    }
   ],
   "source": [
    "from sklearn.metrics import f1_score \n",
    "f1_score(titanic_labels, titanic_predictions)"
   ]
  },
  {
   "cell_type": "code",
   "execution_count": null,
   "metadata": {},
   "outputs": [],
   "source": [
    "## Confusion matrix will work here only for classification models and not for regression models\n",
    "## Theoretically, it has to compare finite number of outcomes with finite predictions / classifications"
   ]
  },
  {
   "cell_type": "code",
   "execution_count": 116,
   "metadata": {},
   "outputs": [],
   "source": [
    "from sklearn.linear_model import SGDClassifier \n",
    "sgd_clf = SGDClassifier(random_state=42)"
   ]
  },
  {
   "cell_type": "code",
   "execution_count": 130,
   "metadata": {},
   "outputs": [],
   "source": [
    "import numpy as np\n",
    "titanic_labels_shape = titanic_labels.values.reshape(1, -1)"
   ]
  },
  {
   "cell_type": "code",
   "execution_count": 131,
   "metadata": {},
   "outputs": [
    {
     "ename": "ValueError",
     "evalue": "Found input variables with inconsistent numbers of samples: [1, 712]",
     "output_type": "error",
     "traceback": [
      "\u001b[0;31m---------------------------------------------------------------------------\u001b[0m",
      "\u001b[0;31mValueError\u001b[0m                                Traceback (most recent call last)",
      "\u001b[0;32m/var/folders/th/dm4hxz2s4yg20p6frlgm0dp40000gn/T/ipykernel_32758/2689498825.py\u001b[0m in \u001b[0;36m<module>\u001b[0;34m\u001b[0m\n\u001b[0;32m----> 1\u001b[0;31m \u001b[0msgd_clf\u001b[0m\u001b[0;34m.\u001b[0m\u001b[0mfit\u001b[0m\u001b[0;34m(\u001b[0m\u001b[0mtitanic_labels_shape\u001b[0m\u001b[0;34m,\u001b[0m \u001b[0mtitanic_predictions\u001b[0m\u001b[0;34m)\u001b[0m\u001b[0;34m\u001b[0m\u001b[0;34m\u001b[0m\u001b[0m\n\u001b[0m\u001b[1;32m      2\u001b[0m \u001b[0mtitanic_predictions\u001b[0m \u001b[0;34m=\u001b[0m \u001b[0msgd_clf\u001b[0m\u001b[0;34m.\u001b[0m\u001b[0mpredict\u001b[0m\u001b[0;34m(\u001b[0m\u001b[0mtitanic_prepared\u001b[0m\u001b[0;34m)\u001b[0m\u001b[0;34m\u001b[0m\u001b[0;34m\u001b[0m\u001b[0m\n",
      "\u001b[0;32m~/miniforge3/envs/tensorflow/lib/python3.8/site-packages/sklearn/linear_model/_stochastic_gradient.py\u001b[0m in \u001b[0;36mfit\u001b[0;34m(self, X, y, coef_init, intercept_init, sample_weight)\u001b[0m\n\u001b[1;32m    727\u001b[0m             \u001b[0mReturns\u001b[0m \u001b[0man\u001b[0m \u001b[0minstance\u001b[0m \u001b[0mof\u001b[0m \u001b[0mself\u001b[0m\u001b[0;34m.\u001b[0m\u001b[0;34m\u001b[0m\u001b[0;34m\u001b[0m\u001b[0m\n\u001b[1;32m    728\u001b[0m         \"\"\"\n\u001b[0;32m--> 729\u001b[0;31m         return self._fit(X, y, alpha=self.alpha, C=1.0,\n\u001b[0m\u001b[1;32m    730\u001b[0m                          \u001b[0mloss\u001b[0m\u001b[0;34m=\u001b[0m\u001b[0mself\u001b[0m\u001b[0;34m.\u001b[0m\u001b[0mloss\u001b[0m\u001b[0;34m,\u001b[0m \u001b[0mlearning_rate\u001b[0m\u001b[0;34m=\u001b[0m\u001b[0mself\u001b[0m\u001b[0;34m.\u001b[0m\u001b[0mlearning_rate\u001b[0m\u001b[0;34m,\u001b[0m\u001b[0;34m\u001b[0m\u001b[0;34m\u001b[0m\u001b[0m\n\u001b[1;32m    731\u001b[0m                          \u001b[0mcoef_init\u001b[0m\u001b[0;34m=\u001b[0m\u001b[0mcoef_init\u001b[0m\u001b[0;34m,\u001b[0m \u001b[0mintercept_init\u001b[0m\u001b[0;34m=\u001b[0m\u001b[0mintercept_init\u001b[0m\u001b[0;34m,\u001b[0m\u001b[0;34m\u001b[0m\u001b[0;34m\u001b[0m\u001b[0m\n",
      "\u001b[0;32m~/miniforge3/envs/tensorflow/lib/python3.8/site-packages/sklearn/linear_model/_stochastic_gradient.py\u001b[0m in \u001b[0;36m_fit\u001b[0;34m(self, X, y, alpha, C, loss, learning_rate, coef_init, intercept_init, sample_weight)\u001b[0m\n\u001b[1;32m    541\u001b[0m             \u001b[0mself\u001b[0m\u001b[0;34m.\u001b[0m\u001b[0mclasses_\u001b[0m \u001b[0;34m=\u001b[0m \u001b[0;32mNone\u001b[0m\u001b[0;34m\u001b[0m\u001b[0;34m\u001b[0m\u001b[0m\n\u001b[1;32m    542\u001b[0m \u001b[0;34m\u001b[0m\u001b[0m\n\u001b[0;32m--> 543\u001b[0;31m         X, y = self._validate_data(X, y, accept_sparse='csr',\n\u001b[0m\u001b[1;32m    544\u001b[0m                                    \u001b[0mdtype\u001b[0m\u001b[0;34m=\u001b[0m\u001b[0mnp\u001b[0m\u001b[0;34m.\u001b[0m\u001b[0mfloat64\u001b[0m\u001b[0;34m,\u001b[0m \u001b[0morder\u001b[0m\u001b[0;34m=\u001b[0m\u001b[0;34m\"C\"\u001b[0m\u001b[0;34m,\u001b[0m\u001b[0;34m\u001b[0m\u001b[0;34m\u001b[0m\u001b[0m\n\u001b[1;32m    545\u001b[0m                                    accept_large_sparse=False)\n",
      "\u001b[0;32m~/miniforge3/envs/tensorflow/lib/python3.8/site-packages/sklearn/base.py\u001b[0m in \u001b[0;36m_validate_data\u001b[0;34m(self, X, y, reset, validate_separately, **check_params)\u001b[0m\n\u001b[1;32m    431\u001b[0m                 \u001b[0my\u001b[0m \u001b[0;34m=\u001b[0m \u001b[0mcheck_array\u001b[0m\u001b[0;34m(\u001b[0m\u001b[0my\u001b[0m\u001b[0;34m,\u001b[0m \u001b[0;34m**\u001b[0m\u001b[0mcheck_y_params\u001b[0m\u001b[0;34m)\u001b[0m\u001b[0;34m\u001b[0m\u001b[0;34m\u001b[0m\u001b[0m\n\u001b[1;32m    432\u001b[0m             \u001b[0;32melse\u001b[0m\u001b[0;34m:\u001b[0m\u001b[0;34m\u001b[0m\u001b[0;34m\u001b[0m\u001b[0m\n\u001b[0;32m--> 433\u001b[0;31m                 \u001b[0mX\u001b[0m\u001b[0;34m,\u001b[0m \u001b[0my\u001b[0m \u001b[0;34m=\u001b[0m \u001b[0mcheck_X_y\u001b[0m\u001b[0;34m(\u001b[0m\u001b[0mX\u001b[0m\u001b[0;34m,\u001b[0m \u001b[0my\u001b[0m\u001b[0;34m,\u001b[0m \u001b[0;34m**\u001b[0m\u001b[0mcheck_params\u001b[0m\u001b[0;34m)\u001b[0m\u001b[0;34m\u001b[0m\u001b[0;34m\u001b[0m\u001b[0m\n\u001b[0m\u001b[1;32m    434\u001b[0m             \u001b[0mout\u001b[0m \u001b[0;34m=\u001b[0m \u001b[0mX\u001b[0m\u001b[0;34m,\u001b[0m \u001b[0my\u001b[0m\u001b[0;34m\u001b[0m\u001b[0;34m\u001b[0m\u001b[0m\n\u001b[1;32m    435\u001b[0m \u001b[0;34m\u001b[0m\u001b[0m\n",
      "\u001b[0;32m~/miniforge3/envs/tensorflow/lib/python3.8/site-packages/sklearn/utils/validation.py\u001b[0m in \u001b[0;36minner_f\u001b[0;34m(*args, **kwargs)\u001b[0m\n\u001b[1;32m     61\u001b[0m             \u001b[0mextra_args\u001b[0m \u001b[0;34m=\u001b[0m \u001b[0mlen\u001b[0m\u001b[0;34m(\u001b[0m\u001b[0margs\u001b[0m\u001b[0;34m)\u001b[0m \u001b[0;34m-\u001b[0m \u001b[0mlen\u001b[0m\u001b[0;34m(\u001b[0m\u001b[0mall_args\u001b[0m\u001b[0;34m)\u001b[0m\u001b[0;34m\u001b[0m\u001b[0;34m\u001b[0m\u001b[0m\n\u001b[1;32m     62\u001b[0m             \u001b[0;32mif\u001b[0m \u001b[0mextra_args\u001b[0m \u001b[0;34m<=\u001b[0m \u001b[0;36m0\u001b[0m\u001b[0;34m:\u001b[0m\u001b[0;34m\u001b[0m\u001b[0;34m\u001b[0m\u001b[0m\n\u001b[0;32m---> 63\u001b[0;31m                 \u001b[0;32mreturn\u001b[0m \u001b[0mf\u001b[0m\u001b[0;34m(\u001b[0m\u001b[0;34m*\u001b[0m\u001b[0margs\u001b[0m\u001b[0;34m,\u001b[0m \u001b[0;34m**\u001b[0m\u001b[0mkwargs\u001b[0m\u001b[0;34m)\u001b[0m\u001b[0;34m\u001b[0m\u001b[0;34m\u001b[0m\u001b[0m\n\u001b[0m\u001b[1;32m     64\u001b[0m \u001b[0;34m\u001b[0m\u001b[0m\n\u001b[1;32m     65\u001b[0m             \u001b[0;31m# extra_args > 0\u001b[0m\u001b[0;34m\u001b[0m\u001b[0;34m\u001b[0m\u001b[0;34m\u001b[0m\u001b[0m\n",
      "\u001b[0;32m~/miniforge3/envs/tensorflow/lib/python3.8/site-packages/sklearn/utils/validation.py\u001b[0m in \u001b[0;36mcheck_X_y\u001b[0;34m(X, y, accept_sparse, accept_large_sparse, dtype, order, copy, force_all_finite, ensure_2d, allow_nd, multi_output, ensure_min_samples, ensure_min_features, y_numeric, estimator)\u001b[0m\n\u001b[1;32m    886\u001b[0m         \u001b[0my\u001b[0m \u001b[0;34m=\u001b[0m \u001b[0my\u001b[0m\u001b[0;34m.\u001b[0m\u001b[0mastype\u001b[0m\u001b[0;34m(\u001b[0m\u001b[0mnp\u001b[0m\u001b[0;34m.\u001b[0m\u001b[0mfloat64\u001b[0m\u001b[0;34m)\u001b[0m\u001b[0;34m\u001b[0m\u001b[0;34m\u001b[0m\u001b[0m\n\u001b[1;32m    887\u001b[0m \u001b[0;34m\u001b[0m\u001b[0m\n\u001b[0;32m--> 888\u001b[0;31m     \u001b[0mcheck_consistent_length\u001b[0m\u001b[0;34m(\u001b[0m\u001b[0mX\u001b[0m\u001b[0;34m,\u001b[0m \u001b[0my\u001b[0m\u001b[0;34m)\u001b[0m\u001b[0;34m\u001b[0m\u001b[0;34m\u001b[0m\u001b[0m\n\u001b[0m\u001b[1;32m    889\u001b[0m \u001b[0;34m\u001b[0m\u001b[0m\n\u001b[1;32m    890\u001b[0m     \u001b[0;32mreturn\u001b[0m \u001b[0mX\u001b[0m\u001b[0;34m,\u001b[0m \u001b[0my\u001b[0m\u001b[0;34m\u001b[0m\u001b[0;34m\u001b[0m\u001b[0m\n",
      "\u001b[0;32m~/miniforge3/envs/tensorflow/lib/python3.8/site-packages/sklearn/utils/validation.py\u001b[0m in \u001b[0;36mcheck_consistent_length\u001b[0;34m(*arrays)\u001b[0m\n\u001b[1;32m    317\u001b[0m     \u001b[0muniques\u001b[0m \u001b[0;34m=\u001b[0m \u001b[0mnp\u001b[0m\u001b[0;34m.\u001b[0m\u001b[0munique\u001b[0m\u001b[0;34m(\u001b[0m\u001b[0mlengths\u001b[0m\u001b[0;34m)\u001b[0m\u001b[0;34m\u001b[0m\u001b[0;34m\u001b[0m\u001b[0m\n\u001b[1;32m    318\u001b[0m     \u001b[0;32mif\u001b[0m \u001b[0mlen\u001b[0m\u001b[0;34m(\u001b[0m\u001b[0muniques\u001b[0m\u001b[0;34m)\u001b[0m \u001b[0;34m>\u001b[0m \u001b[0;36m1\u001b[0m\u001b[0;34m:\u001b[0m\u001b[0;34m\u001b[0m\u001b[0;34m\u001b[0m\u001b[0m\n\u001b[0;32m--> 319\u001b[0;31m         raise ValueError(\"Found input variables with inconsistent numbers of\"\n\u001b[0m\u001b[1;32m    320\u001b[0m                          \" samples: %r\" % [int(l) for l in lengths])\n\u001b[1;32m    321\u001b[0m \u001b[0;34m\u001b[0m\u001b[0m\n",
      "\u001b[0;31mValueError\u001b[0m: Found input variables with inconsistent numbers of samples: [1, 712]"
     ]
    }
   ],
   "source": [
    "sgd_clf.fit(titanic_labels_shape, titanic_predictions)\n",
    "titanic_predictions = sgd_clf.predict(titanic_prepared)"
   ]
  },
  {
   "cell_type": "code",
   "execution_count": null,
   "metadata": {},
   "outputs": [],
   "source": []
  },
  {
   "cell_type": "code",
   "execution_count": null,
   "metadata": {},
   "outputs": [],
   "source": []
  },
  {
   "cell_type": "code",
   "execution_count": null,
   "metadata": {},
   "outputs": [],
   "source": []
  },
  {
   "cell_type": "code",
   "execution_count": null,
   "metadata": {},
   "outputs": [],
   "source": []
  },
  {
   "cell_type": "code",
   "execution_count": null,
   "metadata": {},
   "outputs": [],
   "source": []
  },
  {
   "cell_type": "code",
   "execution_count": null,
   "metadata": {},
   "outputs": [],
   "source": []
  },
  {
   "cell_type": "code",
   "execution_count": null,
   "metadata": {},
   "outputs": [],
   "source": []
  },
  {
   "cell_type": "code",
   "execution_count": null,
   "metadata": {},
   "outputs": [],
   "source": []
  },
  {
   "cell_type": "code",
   "execution_count": null,
   "metadata": {},
   "outputs": [],
   "source": []
  }
 ],
 "metadata": {
  "kernelspec": {
   "display_name": "Python [conda env:tensorflow]",
   "language": "python",
   "name": "conda-env-tensorflow-py"
  },
  "language_info": {
   "codemirror_mode": {
    "name": "ipython",
    "version": 3
   },
   "file_extension": ".py",
   "mimetype": "text/x-python",
   "name": "python",
   "nbconvert_exporter": "python",
   "pygments_lexer": "ipython3",
   "version": "3.8.6"
  }
 },
 "nbformat": 4,
 "nbformat_minor": 4
}
